{
 "cells": [
  {
   "cell_type": "code",
   "execution_count": 1,
   "metadata": {},
   "outputs": [],
   "source": [
    "import pandas as pd\n",
    "import numpy as np\n",
    "from random import randrange\n",
    "import random\n",
    "import math\n",
    "import timeit\n",
    "import statistics"
   ]
  },
  {
   "cell_type": "code",
   "execution_count": 2,
   "metadata": {},
   "outputs": [],
   "source": [
    "mobilemove=np.zeros(1400)\n",
    "for i in range(0,1400):\n",
    "    mobilemove[i]=random.choice([-1,1,-2,2])\n",
    "    \n",
    "MobileDirection=pd.DataFrame(mobilemove)\n",
    "MobileDirection.to_csv('MobileDirection.csv',index=False)"
   ]
  },
  {
   "cell_type": "code",
   "execution_count": 3,
   "metadata": {},
   "outputs": [],
   "source": [
    "##mobiles in the first 60 seconds generate a task in random time\n",
    "mobilestart=[(0,0)]\n",
    "for i in range(0,1400):\n",
    "    mobilestart.append((random.uniform(2,18),random.uniform(2,18)))\n",
    "\n",
    "mobilestart.remove((0,0))    \n",
    "MobStart=mobilestart\n",
    "MobileStart=pd.DataFrame(MobStart)\n",
    "MobileStart.to_csv('MobileStart.csv',index=False)"
   ]
  },
  {
   "cell_type": "code",
   "execution_count": 4,
   "metadata": {},
   "outputs": [],
   "source": [
    "tenKM=(10000/3600)/250\n",
    "fiftyKM=(50000/3600)/250"
   ]
  },
  {
   "cell_type": "code",
   "execution_count": 5,
   "metadata": {},
   "outputs": [],
   "source": [
    "##Starting point\n",
    "mobilesecX=np.zeros((1400,600))\n",
    "for i in range(0,1400):\n",
    "    mobilesecX[i,0]=MobileStart.iloc[i,0]\n",
    "\n",
    "mobilesecY=np.zeros((1400,600))\n",
    "for i in range(0,1400):\n",
    "    mobilesecY[i,0]=MobileStart.iloc[i,1]\n",
    "##moving amount in each seconds\n",
    "movement=np.zeros((1400,599))\n",
    "for i in range(0,1400):\n",
    "    movement[i,0]=random.uniform(tenKM,fiftyKM)\n",
    "    for j in range(1,591,10):\n",
    "        MOVE=movement[i,j-1]*(1/2)\n",
    "        if (movement[i,j-1]-MOVE>tenKM) and (movement[i,j-1]+MOVE<fiftyKM):\n",
    "            movement[i,j]=random.uniform(movement[i,j-1]-MOVE,movement[i,j-1]+MOVE)\n",
    "            movement[i,j+1]=movement[i,j]\n",
    "            movement[i,j+2]=movement[i,j]\n",
    "            movement[i,j+3]=movement[i,j]\n",
    "            movement[i,j+4]=movement[i,j]\n",
    "            movement[i,j+5]=movement[i,j]\n",
    "            movement[i,j+6]=movement[i,j]\n",
    "            movement[i,j+7]=movement[i,j]\n",
    "            movement[i,j+8]=movement[i,j]\n",
    "            movement[i,j+9]=movement[i,j]\n",
    "        else:\n",
    "            if (movement[i,j-1]-MOVE>tenKM):\n",
    "                movement[i,j]=random.uniform(movement[i,j-1]-MOVE,fiftyKM)\n",
    "                movement[i,j+1]=movement[i,j]\n",
    "                movement[i,j+2]=movement[i,j]\n",
    "                movement[i,j+3]=movement[i,j]\n",
    "                movement[i,j+4]=movement[i,j]\n",
    "                movement[i,j+5]=movement[i,j]\n",
    "                movement[i,j+6]=movement[i,j]\n",
    "                movement[i,j+7]=movement[i,j]\n",
    "                movement[i,j+8]=movement[i,j]\n",
    "                movement[i,j+9]=movement[i,j]\n",
    "            else:\n",
    "                movement[i,j]=random.uniform(tenKM,movement[i,j-1]+MOVE)\n",
    "                movement[i,j+1]=movement[i,j]\n",
    "                movement[i,j+2]=movement[i,j]\n",
    "                movement[i,j+3]=movement[i,j]\n",
    "                movement[i,j+4]=movement[i,j]\n",
    "                movement[i,j+5]=movement[i,j]\n",
    "                movement[i,j+6]=movement[i,j]\n",
    "                movement[i,j+7]=movement[i,j]\n",
    "                movement[i,j+8]=movement[i,j]\n",
    "                movement[i,j+9]=movement[i,j]\n",
    "        \n",
    "movement1=pd.DataFrame(movement)\n",
    "movement1.to_csv('MovementOfMobile.csv',index=False)"
   ]
  },
  {
   "cell_type": "code",
   "execution_count": 6,
   "metadata": {},
   "outputs": [],
   "source": [
    "Direction=pd.read_csv('MobileDirection.csv')\n",
    "Move=pd.read_csv('MovementOfMobile.csv')"
   ]
  },
  {
   "cell_type": "code",
   "execution_count": 7,
   "metadata": {},
   "outputs": [],
   "source": [
    "#mobilemove={-2,-1,1,2}, -1=leftX(+), 1=rightX(-), -2=downY(+) 2=upY(-)\n",
    "\n",
    "LocationSec=np.zeros((1400,599))\n",
    "for i in range(0,1400):\n",
    "    if Direction.iloc[i].values==-1:\n",
    "        for j in range(1,600):\n",
    "            mobilesecX[i,j]=mobilesecX[i,j-1]+movement[i,j-1]\n",
    "            mobilesecY[i,j]=mobilesecY[i,0]\n",
    "    elif Direction.iloc[i].values==1:\n",
    "        for j in range(1,600):\n",
    "            mobilesecX[i,j]=mobilesecX[i,j-1]-movement[i,j-1]\n",
    "            mobilesecY[i,j]=mobilesecY[i,0]\n",
    "    elif Direction.iloc[i].values==-2:\n",
    "        for j in range(1,600):\n",
    "            mobilesecY[i,j]=mobilesecY[i,j-1]+movement[i,j-1]\n",
    "            mobilesecX[i,j]=mobilesecX[i,0]\n",
    "    elif Direction.iloc[i].values==2:\n",
    "        for j in range(1,600):\n",
    "            mobilesecY[i,j]=mobilesecY[i,j-1]-movement[i,j-1]\n",
    "            mobilesecX[i,j]=mobilesecX[i,0]\n",
    "            \n",
    "mobilesecXX=pd.DataFrame(mobilesecX)\n",
    "mobilesecXX.to_csv('XofMobile.csv',index=False)\n",
    "mobilesecYY=pd.DataFrame(mobilesecY)\n",
    "mobilesecYY.to_csv('YofMobile.csv',index=False)"
   ]
  },
  {
   "cell_type": "code",
   "execution_count": 8,
   "metadata": {},
   "outputs": [],
   "source": [
    "##mobiles in the first 60 seconds generate a task in random time\n",
    "taskgenerate=np.zeros(1400)\n",
    "for i in range(0,1400):\n",
    "    taskgenerate[i]=random.randint(1, 140)\n",
    "\n",
    "    \n",
    "taskgenerate1=pd.DataFrame(taskgenerate)\n",
    "taskgenerate1=taskgenerate1.round().astype(int)\n",
    "taskgenerate1.to_csv('Timeoftaskgenerate.csv',index=False)\n",
    "taskgenerate1.to_csv('TimeoftaskgenerateID.csv')"
   ]
  },
  {
   "cell_type": "code",
   "execution_count": 9,
   "metadata": {},
   "outputs": [],
   "source": [
    "tasks = [1, 2, 3, 4]\n",
    "tasktype=np.zeros(1400)\n",
    "for i in range(0,1400):\n",
    "    tasktype[i]=np.random.choice(tasks)\n",
    "\n",
    "tasktype1=pd.DataFrame(tasktype)\n",
    "tasktype1=tasktype1.round().astype(int)\n",
    "tasktype1.to_csv('tasktype.csv',index=False)"
   ]
  },
  {
   "cell_type": "code",
   "execution_count": 10,
   "metadata": {},
   "outputs": [],
   "source": [
    "tasksizeMb=np.zeros(1400)\n",
    "for i in range(0,1400):\n",
    "    tasksizeMb[i]=random.uniform(8,240)\n",
    "#taskgenerate=taskgenerate.round().astype(int)\n",
    "\n",
    "tasksizeMb1=pd.DataFrame(tasksizeMb)\n",
    "tasksizeMb1.to_csv('tasksizeMb.csv',index=False)\n",
    "tasksize=pd.read_csv('tasksizeMb.csv')"
   ]
  },
  {
   "cell_type": "code",
   "execution_count": 11,
   "metadata": {},
   "outputs": [],
   "source": [
    "##mobile energy at the time of offloading\n",
    "MobileEnergy=np.zeros(1400)\n",
    "for i in range(0,1400):\n",
    "    MobileEnergy[i]=random.uniform(battery20, battery60)\n",
    "    \n",
    "MobileEnergy1=pd.DataFrame(MobileEnergy)\n",
    "MobileEnergy1.to_csv('MobileEnergy.csv')"
   ]
  },
  {
   "cell_type": "code",
   "execution_count": 12,
   "metadata": {},
   "outputs": [],
   "source": [
    "tasktype=TaskID\n",
    "TaskMinTime=np.zeros(1400)\n",
    "TaskMaxTime=np.zeros(1400)\n",
    "c=10**3 ####cycles per bit\n",
    "####CPU for MEC=10GHz=10**10\n",
    "CpuEdgeMax=10*10**9\n",
    "CpuEdgeMin=3*10**9\n",
    "#CpuEdgeMin=2.5*10**9\n",
    "Cycles=(10**6)*c ###cycles for each Megabit\n",
    "for i in range(0,1400):\n",
    "    if tasktype.iloc[i].values==1:\n",
    "        TaskMinTime[i]=((tasksize.iloc[i]*Cycles)/(CpuEdgeMax))\n",
    "        TaskMaxTime[i]=((tasksize.iloc[i]*Cycles)/(CpuEdgeMin))\n",
    "    elif tasktype.iloc[i].values==2:\n",
    "        TaskMinTime[i]=((tasksize.iloc[i]*Cycles)/(CpuEdgeMax))+(((tasksize.iloc[i]/2)*Cycles)/(CpuEdgeMax))\n",
    "        TaskMaxTime[i]=((tasksize.iloc[i]*Cycles)/(CpuEdgeMin))+(((tasksize.iloc[i]/2)*Cycles)/(CpuEdgeMin))\n",
    "    elif tasktype.iloc[i].values==3:\n",
    "        TaskMinTime[i]=((tasksize.iloc[i]*Cycles)/(CpuEdgeMax))+(((tasksize.iloc[i]/2)*Cycles)/(CpuEdgeMax))+(((tasksize.iloc[i]/4)*Cycles)/(CpuEdgeMax))\n",
    "        TaskMaxTime[i]=((tasksize.iloc[i]*Cycles)/(CpuEdgeMin))+(((tasksize.iloc[i]/2)*Cycles)/(CpuEdgeMin))+(((tasksize.iloc[i]/4)*Cycles)/(CpuEdgeMin))\n",
    "    elif tasktype.iloc[i].values==4:\n",
    "        TaskMinTime[i]=((tasksize.iloc[i]*Cycles)/(CpuEdgeMax))+(((tasksize.iloc[i]/2)*Cycles)/(CpuEdgeMax))+(((tasksize.iloc[i]/4)*Cycles)/(CpuEdgeMax))+(((tasksize.iloc[i]/8)*Cycles)/(CpuEdgeMax))\n",
    "        TaskMaxTime[i]=((tasksize.iloc[i]*Cycles)/(CpuEdgeMin))+(((tasksize.iloc[i]/2)*Cycles)/(CpuEdgeMin))+(((tasksize.iloc[i]/4)*Cycles)/(CpuEdgeMin))+(((tasksize.iloc[i]/8)*Cycles)/(CpuEdgeMin))\n",
    "TaskMinTime1=pd.DataFrame(TaskMinTime)\n",
    "TaskMinTime1.to_csv('TaskMinTime.csv',index=False)\n",
    "\n",
    "TaskMaxTime1=pd.DataFrame(TaskMaxTime)\n",
    "TaskMaxTime1.to_csv('TaskMaxTime.csv',index=False)\n",
    "TaskEdgeTimeMax=pd.read_csv('TaskMaxTime.csv')\n",
    "TaskEdgeTimeMin=pd.read_csv('TaskMinTime.csv')"
   ]
  },
  {
   "cell_type": "code",
   "execution_count": 13,
   "metadata": {},
   "outputs": [],
   "source": [
    "fullBattryEnergy=18000\n",
    "##the highest battery starts at 60% which is 10800j\n",
    "battery60=10800\n",
    "##energy threshold is 20% which is 3600\n",
    "battery20=3600\n",
    "##each 1Ghz cycles use 4 joules: p=4j/GHz\n",
    "MobileComputingEnergy=4\n",
    "##transmission power= TrPow=0.2 Watt\n",
    "MobileTransmissionPower=0.2\n",
    "##Bandwidth : B= 5*(10**6)\n",
    "B=5 ##mega Hz\n",
    "##channel gain=(Distance)**-4\n",
    "##noise power= 10**-12 Watt\n",
    "NoisePower= 10**(-12)"
   ]
  },
  {
   "cell_type": "code",
   "execution_count": 14,
   "metadata": {},
   "outputs": [],
   "source": [
    "rate=B*(math.log2(1+(1.8*(250**(-4)))/NoisePower))"
   ]
  },
  {
   "cell_type": "code",
   "execution_count": 15,
   "metadata": {},
   "outputs": [],
   "source": [
    "rate=B*(math.log2(1+(1.8*(250**(-4)))/NoisePower))\n",
    "TaskDeadline=np.zeros(1400)\n",
    "for i in range(0,1400):\n",
    "    TimeOffload=tasksize.iloc[i].values/rate\n",
    "    TaskDeadline[i]=random.uniform(TaskEdgeTimeMin.iloc[i]+TimeOffload,(TaskEdgeTimeMax.iloc[i])+TimeOffload)\n",
    "\n",
    "TaskDeadlineTrans1=pd.DataFrame(TaskDeadline)\n",
    "TaskDeadlineTrans1.to_csv('TaskDeadlineTransmission.csv',index=False)"
   ]
  },
  {
   "cell_type": "code",
   "execution_count": 16,
   "metadata": {},
   "outputs": [],
   "source": [
    "##0-mobile ID/ 1-Task ID/ 2-Data Size/ 3-Deadline/ 4-Next Subtask/ 5-data transmitted between subtasks/ \n",
    "##6-Mobile Energy/ 7-mobile threshold/ 8-LocationX/ 9-LocationY/ 10-Task generate Time/\n",
    "\n",
    "packet=np.zeros((1400,11))\n",
    "for i in range(0,1400):\n",
    "    MobileID=i\n",
    "    packet[i,0]=MobileID\n",
    "    packet[i,1]=TaskID.iloc[MobileID]\n",
    "    packet[i,2]=tasksize.iloc[MobileID]\n",
    "    packet[i,3]=Deadline.iloc[MobileID]\n",
    "    packet[i,4]=1\n",
    "    packet[i,5]=tasksize.iloc[MobileID]\n",
    "    packet[i,6]=MobileEn.iloc[MobileID,1]\n",
    "    packet[i,7]=3600\n",
    "    packet[i,8]=LocationX.iloc[MobileID,int(taskgenerate.iloc[MobileID,1])]\n",
    "    packet[i,9]=LocationY.iloc[MobileID,int(taskgenerate.iloc[MobileID,1])]\n",
    "    packet[i,10]=taskgenerate.iloc[MobileID,1]\n",
    "\n",
    "packet1=pd.DataFrame(packet)\n",
    "#packet1 =packet1.iloc[:,0].astype(int)\n",
    "packet1.to_csv('packet.csv',index=False)"
   ]
  }
 ],
 "metadata": {
  "kernelspec": {
   "display_name": "Python 3 (ipykernel)",
   "language": "python",
   "name": "python3"
  },
  "language_info": {
   "codemirror_mode": {
    "name": "ipython",
    "version": 3
   },
   "file_extension": ".py",
   "mimetype": "text/x-python",
   "name": "python",
   "nbconvert_exporter": "python",
   "pygments_lexer": "ipython3",
   "version": "3.9.12"
  }
 },
 "nbformat": 4,
 "nbformat_minor": 2
}
